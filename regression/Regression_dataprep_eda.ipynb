{
 "cells": [
  {
   "cell_type": "markdown",
   "metadata": {},
   "source": [
    "# ML Regression project"
   ]
  },
  {
   "cell_type": "markdown",
   "metadata": {},
   "source": [
    "## Introduction to the project\n",
    "\n",
    "#### Goal:\n",
    "\n",
    "Predict the weight of newborn children based on given features.\n",
    "\n",
    "#### Problem Definition:\n",
    "\n",
    "We aim to understand the factors that influence the weight of a newborn child and develop a predictive model using machine learning algorithms. This will provide valuable insights for healthcare professionals and parents, allowing them to anticipate and monitor newborn weight.\n",
    "\n",
    "#### Decision makers/stakeholders:\n",
    "\n",
    "The primary decision makers and stakeholders for this project include healthcare professionals, researchers in the field of prenatal care, and parents who are interested in understanding the factors affecting newborn weight.\n",
    "\n",
    "#### Criteria for success:\n",
    "\n",
    "The success of the project will be measured based on the accuracy of the weight predictions for the newborn children. \n",
    "\n",
    "#### Constraints:\n",
    "\n",
    "The work will be limited only to the given dataset and available functions, so factors beyond the provided dataset will not be considered.\n",
    "\n",
    "#### Approach:\n",
    "\n",
    "We will apply various machine learning algorithms to build a model for predicting newborn weight based on the given features.\n",
    "Three different algorithms such as Linear Regression, Decision Trees, and Random Forest, will be considered.\n",
    "Additional algorithms like Lasso, SVR, and Gradient Boosting can also be applied to compare their performance.\n",
    "The algorithms will be trained on the training sample and evaluated using the MAPE metric on the validation set.\n",
    "The algorithm with the lowest MAPE on the validation set will be selected as the final model.\n",
    "The chosen algorithm will then be used to make predictions on the test sample to estimate newborn weights.\n"
   ]
  },
  {
   "cell_type": "markdown",
   "metadata": {},
   "source": []
  },
  {
   "cell_type": "markdown",
   "metadata": {},
   "source": [
    "# 1. Data description\n",
    "\n",
    "The dataset contains 2,398,116 records (rows) in the training sample and 599,561 in the test sample and 14 features (columns).\n",
    "\n",
    "\n",
    "|Feature|Description|\n",
    "|-------|-----------|\n",
    "|mother_body_mass_index| Body Mass Index of the mother (continuous numerical)|\n",
    "|mother_marital_status| categorical: 1 = Yes, mother is married , 2 = Not married|\n",
    "|mother_delivery_weight| Weight of the mother at delivery in pounds (continuous numerical)|\n",
    "|mother_race| Race of the mother (categorical: 1 = White (alone), 2 = Black (alone), 3 = AIAN (alone), 4 = Asian (alone) 5 = NHOPI (alone), 6 = More than one race)|\n",
    "|mother_height| Height of the mother in inches (continuous numerical)|\n",
    "|mother_weight_gain| Weight gain of the mother during pregnancy in pounds (continuous numerical)|\n",
    "|father_age| Age of the father (continuous numerical)|\n",
    "|father_education| Education level of the father (categorical: 1 = 8th grade or less, 2 = 9-12th grade, no diploma, 3 = High school graduate or GED completed, 4 = Some college credit but no degree, 5 = Associate degree, 6 = Bachelor's degree, 7 = Master's degree, 8 = Doctorate or Professional degree, 9 = unknown)|\n",
    "|cigarettes_before_pregnancy| Number of cigarettes smoked daily by the mother before pregnancy (00-97 = number of cigarettes daily, 98 = 98 or more cigarettes daily) (continuous numerical)|\n",
    "|prenatal_care_month| Pregnancy month in which prenatal care began (continuous numerical 99 = no prenatal care)|\n",
    "|number_prenatal_visits| Number of prenatal visits (continuous numerical)|\n",
    "|previous_cesarean| Indicates if there was any previous cesarean delivery before (categorical: N = No, Y = Yes, U = Other)|\n",
    "|newborn_gender| Gender of the newborn (categorical: F = female, M = male)|\n",
    "|newborn_weight| Weight of the newborn in grams (continuous numerical, only available in the training sample)|"
   ]
  },
  {
   "cell_type": "markdown",
   "metadata": {},
   "source": [
    "### Dependencies loading"
   ]
  },
  {
   "cell_type": "code",
   "execution_count": 1,
   "metadata": {},
   "outputs": [
    {
     "name": "stderr",
     "output_type": "stream",
     "text": [
      "/home/ubuntu/.local/lib/python3.8/site-packages/pandas/core/computation/expressions.py:20: UserWarning: Pandas requires version '2.7.3' or newer of 'numexpr' (version '2.7.1' currently installed).\n",
      "  from pandas.core.computation.check import NUMEXPR_INSTALLED\n"
     ]
    }
   ],
   "source": [
    "import pandas as pd\n",
    "import matplotlib.pyplot as plt\n",
    "from sklearn.preprocessing import StandardScaler\n",
    "import pandas as pd\n",
    "import numpy as np\n",
    "import matplotlib.pyplot as plt\n",
    "from scipy import stats\n",
    "import statsmodels.api as sm\n",
    "import seaborn as sns\n",
    "import scipy.stats as stats\n",
    "from scipy.stats import pearsonr\n",
    "import numpy as np\n",
    "import statsmodels.api as sm\n",
    "from statsmodels.stats.diagnostic import het_breuschpagan, acorr_breusch_godfrey\n",
    "from scipy.stats import jarque_bera\n",
    "\n"
   ]
  },
  {
   "cell_type": "markdown",
   "metadata": {},
   "source": [
    "# 2. Data preparation"
   ]
  },
  {
   "cell_type": "markdown",
   "metadata": {},
   "source": [
    "Reading the dataset"
   ]
  },
  {
   "cell_type": "code",
   "execution_count": 2,
   "metadata": {},
   "outputs": [],
   "source": [
    "newborn_train = pd.read_csv('../data/newborn_train.csv')\n",
    "newborn_test = pd.read_csv('../data/newborn_test.csv')\n"
   ]
  },
  {
   "cell_type": "code",
   "execution_count": 3,
   "metadata": {},
   "outputs": [
    {
     "data": {
      "text/html": [
       "<div>\n",
       "<style scoped>\n",
       "    .dataframe tbody tr th:only-of-type {\n",
       "        vertical-align: middle;\n",
       "    }\n",
       "\n",
       "    .dataframe tbody tr th {\n",
       "        vertical-align: top;\n",
       "    }\n",
       "\n",
       "    .dataframe thead th {\n",
       "        text-align: right;\n",
       "    }\n",
       "</style>\n",
       "<table border=\"1\" class=\"dataframe\">\n",
       "  <thead>\n",
       "    <tr style=\"text-align: right;\">\n",
       "      <th></th>\n",
       "      <th>mother_body_mass_index</th>\n",
       "      <th>mother_marital_status</th>\n",
       "      <th>mother_delivery_weight</th>\n",
       "      <th>mother_race</th>\n",
       "      <th>mother_height</th>\n",
       "      <th>mother_weight_gain</th>\n",
       "      <th>father_age</th>\n",
       "      <th>father_education</th>\n",
       "      <th>cigarettes_before_pregnancy</th>\n",
       "      <th>prenatal_care_month</th>\n",
       "      <th>number_prenatal_visits</th>\n",
       "      <th>previous_cesarean</th>\n",
       "      <th>newborn_gender</th>\n",
       "    </tr>\n",
       "  </thead>\n",
       "  <tbody>\n",
       "    <tr>\n",
       "      <th>0</th>\n",
       "      <td>22.3</td>\n",
       "      <td>1.0</td>\n",
       "      <td>149.0</td>\n",
       "      <td>4</td>\n",
       "      <td>63.0</td>\n",
       "      <td>23.0</td>\n",
       "      <td>30.0</td>\n",
       "      <td>6</td>\n",
       "      <td>0.0</td>\n",
       "      <td>2</td>\n",
       "      <td>15.0</td>\n",
       "      <td>N</td>\n",
       "      <td>F</td>\n",
       "    </tr>\n",
       "    <tr>\n",
       "      <th>1</th>\n",
       "      <td>27.4</td>\n",
       "      <td>1.0</td>\n",
       "      <td>198.0</td>\n",
       "      <td>1</td>\n",
       "      <td>67.0</td>\n",
       "      <td>23.0</td>\n",
       "      <td>28.0</td>\n",
       "      <td>3</td>\n",
       "      <td>0.0</td>\n",
       "      <td>4</td>\n",
       "      <td>16.0</td>\n",
       "      <td>N</td>\n",
       "      <td>F</td>\n",
       "    </tr>\n",
       "    <tr>\n",
       "      <th>2</th>\n",
       "      <td>24.7</td>\n",
       "      <td>2.0</td>\n",
       "      <td>164.0</td>\n",
       "      <td>2</td>\n",
       "      <td>64.0</td>\n",
       "      <td>20.0</td>\n",
       "      <td>22.0</td>\n",
       "      <td>2</td>\n",
       "      <td>0.0</td>\n",
       "      <td>2</td>\n",
       "      <td>11.0</td>\n",
       "      <td>N</td>\n",
       "      <td>F</td>\n",
       "    </tr>\n",
       "    <tr>\n",
       "      <th>3</th>\n",
       "      <td>34.7</td>\n",
       "      <td>2.0</td>\n",
       "      <td>235.0</td>\n",
       "      <td>1</td>\n",
       "      <td>66.0</td>\n",
       "      <td>20.0</td>\n",
       "      <td>24.0</td>\n",
       "      <td>3</td>\n",
       "      <td>0.0</td>\n",
       "      <td>2</td>\n",
       "      <td>13.0</td>\n",
       "      <td>N</td>\n",
       "      <td>M</td>\n",
       "    </tr>\n",
       "    <tr>\n",
       "      <th>4</th>\n",
       "      <td>35.7</td>\n",
       "      <td>NaN</td>\n",
       "      <td>213.0</td>\n",
       "      <td>2</td>\n",
       "      <td>64.0</td>\n",
       "      <td>5.0</td>\n",
       "      <td>NaN</td>\n",
       "      <td>9</td>\n",
       "      <td>0.0</td>\n",
       "      <td>3</td>\n",
       "      <td>9.0</td>\n",
       "      <td>N</td>\n",
       "      <td>F</td>\n",
       "    </tr>\n",
       "    <tr>\n",
       "      <th>5</th>\n",
       "      <td>34.8</td>\n",
       "      <td>1.0</td>\n",
       "      <td>196.0</td>\n",
       "      <td>1</td>\n",
       "      <td>61.0</td>\n",
       "      <td>12.0</td>\n",
       "      <td>30.0</td>\n",
       "      <td>3</td>\n",
       "      <td>0.0</td>\n",
       "      <td>3</td>\n",
       "      <td>11.0</td>\n",
       "      <td>Y</td>\n",
       "      <td>M</td>\n",
       "    </tr>\n",
       "    <tr>\n",
       "      <th>6</th>\n",
       "      <td>27.4</td>\n",
       "      <td>2.0</td>\n",
       "      <td>214.0</td>\n",
       "      <td>2</td>\n",
       "      <td>67.0</td>\n",
       "      <td>39.0</td>\n",
       "      <td>28.0</td>\n",
       "      <td>3</td>\n",
       "      <td>0.0</td>\n",
       "      <td>2</td>\n",
       "      <td>14.0</td>\n",
       "      <td>N</td>\n",
       "      <td>M</td>\n",
       "    </tr>\n",
       "    <tr>\n",
       "      <th>7</th>\n",
       "      <td>NaN</td>\n",
       "      <td>NaN</td>\n",
       "      <td>NaN</td>\n",
       "      <td>1</td>\n",
       "      <td>NaN</td>\n",
       "      <td>NaN</td>\n",
       "      <td>43.0</td>\n",
       "      <td>2</td>\n",
       "      <td>0.0</td>\n",
       "      <td>2</td>\n",
       "      <td>12.0</td>\n",
       "      <td>Y</td>\n",
       "      <td>F</td>\n",
       "    </tr>\n",
       "    <tr>\n",
       "      <th>8</th>\n",
       "      <td>23.0</td>\n",
       "      <td>1.0</td>\n",
       "      <td>155.0</td>\n",
       "      <td>4</td>\n",
       "      <td>63.0</td>\n",
       "      <td>25.0</td>\n",
       "      <td>NaN</td>\n",
       "      <td>8</td>\n",
       "      <td>0.0</td>\n",
       "      <td>3</td>\n",
       "      <td>12.0</td>\n",
       "      <td>Y</td>\n",
       "      <td>F</td>\n",
       "    </tr>\n",
       "    <tr>\n",
       "      <th>9</th>\n",
       "      <td>39.9</td>\n",
       "      <td>2.0</td>\n",
       "      <td>236.0</td>\n",
       "      <td>1</td>\n",
       "      <td>63.0</td>\n",
       "      <td>11.0</td>\n",
       "      <td>21.0</td>\n",
       "      <td>3</td>\n",
       "      <td>0.0</td>\n",
       "      <td>1</td>\n",
       "      <td>11.0</td>\n",
       "      <td>N</td>\n",
       "      <td>M</td>\n",
       "    </tr>\n",
       "  </tbody>\n",
       "</table>\n",
       "</div>"
      ],
      "text/plain": [
       "   mother_body_mass_index  mother_marital_status  mother_delivery_weight  \\\n",
       "0                    22.3                    1.0                   149.0   \n",
       "1                    27.4                    1.0                   198.0   \n",
       "2                    24.7                    2.0                   164.0   \n",
       "3                    34.7                    2.0                   235.0   \n",
       "4                    35.7                    NaN                   213.0   \n",
       "5                    34.8                    1.0                   196.0   \n",
       "6                    27.4                    2.0                   214.0   \n",
       "7                     NaN                    NaN                     NaN   \n",
       "8                    23.0                    1.0                   155.0   \n",
       "9                    39.9                    2.0                   236.0   \n",
       "\n",
       "   mother_race  mother_height  mother_weight_gain  father_age  \\\n",
       "0            4           63.0                23.0        30.0   \n",
       "1            1           67.0                23.0        28.0   \n",
       "2            2           64.0                20.0        22.0   \n",
       "3            1           66.0                20.0        24.0   \n",
       "4            2           64.0                 5.0         NaN   \n",
       "5            1           61.0                12.0        30.0   \n",
       "6            2           67.0                39.0        28.0   \n",
       "7            1            NaN                 NaN        43.0   \n",
       "8            4           63.0                25.0         NaN   \n",
       "9            1           63.0                11.0        21.0   \n",
       "\n",
       "   father_education  cigarettes_before_pregnancy  prenatal_care_month  \\\n",
       "0                 6                          0.0                    2   \n",
       "1                 3                          0.0                    4   \n",
       "2                 2                          0.0                    2   \n",
       "3                 3                          0.0                    2   \n",
       "4                 9                          0.0                    3   \n",
       "5                 3                          0.0                    3   \n",
       "6                 3                          0.0                    2   \n",
       "7                 2                          0.0                    2   \n",
       "8                 8                          0.0                    3   \n",
       "9                 3                          0.0                    1   \n",
       "\n",
       "   number_prenatal_visits previous_cesarean newborn_gender  \n",
       "0                    15.0                 N              F  \n",
       "1                    16.0                 N              F  \n",
       "2                    11.0                 N              F  \n",
       "3                    13.0                 N              M  \n",
       "4                     9.0                 N              F  \n",
       "5                    11.0                 Y              M  \n",
       "6                    14.0                 N              M  \n",
       "7                    12.0                 Y              F  \n",
       "8                    12.0                 Y              F  \n",
       "9                    11.0                 N              M  "
      ]
     },
     "execution_count": 3,
     "metadata": {},
     "output_type": "execute_result"
    }
   ],
   "source": [
    "newborn_test.head(10)"
   ]
  },
  {
   "cell_type": "markdown",
   "metadata": {},
   "source": [
    "view the first few rows of the data:"
   ]
  },
  {
   "cell_type": "code",
   "execution_count": 4,
   "metadata": {},
   "outputs": [
    {
     "data": {
      "text/html": [
       "<div>\n",
       "<style scoped>\n",
       "    .dataframe tbody tr th:only-of-type {\n",
       "        vertical-align: middle;\n",
       "    }\n",
       "\n",
       "    .dataframe tbody tr th {\n",
       "        vertical-align: top;\n",
       "    }\n",
       "\n",
       "    .dataframe thead th {\n",
       "        text-align: right;\n",
       "    }\n",
       "</style>\n",
       "<table border=\"1\" class=\"dataframe\">\n",
       "  <thead>\n",
       "    <tr style=\"text-align: right;\">\n",
       "      <th></th>\n",
       "      <th>mother_body_mass_index</th>\n",
       "      <th>mother_marital_status</th>\n",
       "      <th>mother_delivery_weight</th>\n",
       "      <th>mother_race</th>\n",
       "      <th>mother_height</th>\n",
       "      <th>mother_weight_gain</th>\n",
       "      <th>father_age</th>\n",
       "      <th>father_education</th>\n",
       "      <th>cigarettes_before_pregnancy</th>\n",
       "      <th>prenatal_care_month</th>\n",
       "      <th>number_prenatal_visits</th>\n",
       "      <th>previous_cesarean</th>\n",
       "      <th>newborn_gender</th>\n",
       "      <th>newborn_weight</th>\n",
       "    </tr>\n",
       "  </thead>\n",
       "  <tbody>\n",
       "    <tr>\n",
       "      <th>0</th>\n",
       "      <td>30.8</td>\n",
       "      <td>2.0</td>\n",
       "      <td>220.0</td>\n",
       "      <td>1</td>\n",
       "      <td>65.0</td>\n",
       "      <td>35.0</td>\n",
       "      <td>29.0</td>\n",
       "      <td>6</td>\n",
       "      <td>0.0</td>\n",
       "      <td>2</td>\n",
       "      <td>10.0</td>\n",
       "      <td>N</td>\n",
       "      <td>F</td>\n",
       "      <td>3045</td>\n",
       "    </tr>\n",
       "    <tr>\n",
       "      <th>1</th>\n",
       "      <td>45.8</td>\n",
       "      <td>NaN</td>\n",
       "      <td>293.0</td>\n",
       "      <td>1</td>\n",
       "      <td>64.0</td>\n",
       "      <td>26.0</td>\n",
       "      <td>37.0</td>\n",
       "      <td>4</td>\n",
       "      <td>0.0</td>\n",
       "      <td>3</td>\n",
       "      <td>10.0</td>\n",
       "      <td>N</td>\n",
       "      <td>F</td>\n",
       "      <td>3061</td>\n",
       "    </tr>\n",
       "    <tr>\n",
       "      <th>2</th>\n",
       "      <td>NaN</td>\n",
       "      <td>1.0</td>\n",
       "      <td>NaN</td>\n",
       "      <td>1</td>\n",
       "      <td>66.0</td>\n",
       "      <td>NaN</td>\n",
       "      <td>33.0</td>\n",
       "      <td>6</td>\n",
       "      <td>0.0</td>\n",
       "      <td>3</td>\n",
       "      <td>NaN</td>\n",
       "      <td>N</td>\n",
       "      <td>F</td>\n",
       "      <td>3827</td>\n",
       "    </tr>\n",
       "    <tr>\n",
       "      <th>3</th>\n",
       "      <td>24.3</td>\n",
       "      <td>1.0</td>\n",
       "      <td>157.0</td>\n",
       "      <td>1</td>\n",
       "      <td>NaN</td>\n",
       "      <td>20.0</td>\n",
       "      <td>27.0</td>\n",
       "      <td>6</td>\n",
       "      <td>0.0</td>\n",
       "      <td>3</td>\n",
       "      <td>9.0</td>\n",
       "      <td>N</td>\n",
       "      <td>M</td>\n",
       "      <td>3997</td>\n",
       "    </tr>\n",
       "    <tr>\n",
       "      <th>4</th>\n",
       "      <td>24.1</td>\n",
       "      <td>1.0</td>\n",
       "      <td>187.0</td>\n",
       "      <td>1</td>\n",
       "      <td>65.0</td>\n",
       "      <td>42.0</td>\n",
       "      <td>29.0</td>\n",
       "      <td>8</td>\n",
       "      <td>0.0</td>\n",
       "      <td>2</td>\n",
       "      <td>12.0</td>\n",
       "      <td>N</td>\n",
       "      <td>F</td>\n",
       "      <td>3240</td>\n",
       "    </tr>\n",
       "    <tr>\n",
       "      <th>5</th>\n",
       "      <td>30.9</td>\n",
       "      <td>2.0</td>\n",
       "      <td>231.0</td>\n",
       "      <td>1</td>\n",
       "      <td>NaN</td>\n",
       "      <td>51.0</td>\n",
       "      <td>27.0</td>\n",
       "      <td>3</td>\n",
       "      <td>0.0</td>\n",
       "      <td>4</td>\n",
       "      <td>10.0</td>\n",
       "      <td>N</td>\n",
       "      <td>M</td>\n",
       "      <td>3544</td>\n",
       "    </tr>\n",
       "    <tr>\n",
       "      <th>6</th>\n",
       "      <td>22.9</td>\n",
       "      <td>1.0</td>\n",
       "      <td>141.0</td>\n",
       "      <td>1</td>\n",
       "      <td>NaN</td>\n",
       "      <td>16.0</td>\n",
       "      <td>33.0</td>\n",
       "      <td>3</td>\n",
       "      <td>0.0</td>\n",
       "      <td>4</td>\n",
       "      <td>8.0</td>\n",
       "      <td>N</td>\n",
       "      <td>M</td>\n",
       "      <td>3010</td>\n",
       "    </tr>\n",
       "    <tr>\n",
       "      <th>7</th>\n",
       "      <td>28.3</td>\n",
       "      <td>NaN</td>\n",
       "      <td>182.0</td>\n",
       "      <td>1</td>\n",
       "      <td>65.0</td>\n",
       "      <td>12.0</td>\n",
       "      <td>NaN</td>\n",
       "      <td>5</td>\n",
       "      <td>11.0</td>\n",
       "      <td>3</td>\n",
       "      <td>15.0</td>\n",
       "      <td>N</td>\n",
       "      <td>M</td>\n",
       "      <td>3856</td>\n",
       "    </tr>\n",
       "    <tr>\n",
       "      <th>8</th>\n",
       "      <td>40.7</td>\n",
       "      <td>1.0</td>\n",
       "      <td>NaN</td>\n",
       "      <td>1</td>\n",
       "      <td>63.0</td>\n",
       "      <td>NaN</td>\n",
       "      <td>37.0</td>\n",
       "      <td>4</td>\n",
       "      <td>0.0</td>\n",
       "      <td>3</td>\n",
       "      <td>9.0</td>\n",
       "      <td>Y</td>\n",
       "      <td>M</td>\n",
       "      <td>1015</td>\n",
       "    </tr>\n",
       "    <tr>\n",
       "      <th>9</th>\n",
       "      <td>36.3</td>\n",
       "      <td>1.0</td>\n",
       "      <td>274.0</td>\n",
       "      <td>1</td>\n",
       "      <td>71.0</td>\n",
       "      <td>14.0</td>\n",
       "      <td>33.0</td>\n",
       "      <td>3</td>\n",
       "      <td>0.0</td>\n",
       "      <td>2</td>\n",
       "      <td>14.0</td>\n",
       "      <td>N</td>\n",
       "      <td>F</td>\n",
       "      <td>4450</td>\n",
       "    </tr>\n",
       "  </tbody>\n",
       "</table>\n",
       "</div>"
      ],
      "text/plain": [
       "   mother_body_mass_index  mother_marital_status  mother_delivery_weight  \\\n",
       "0                    30.8                    2.0                   220.0   \n",
       "1                    45.8                    NaN                   293.0   \n",
       "2                     NaN                    1.0                     NaN   \n",
       "3                    24.3                    1.0                   157.0   \n",
       "4                    24.1                    1.0                   187.0   \n",
       "5                    30.9                    2.0                   231.0   \n",
       "6                    22.9                    1.0                   141.0   \n",
       "7                    28.3                    NaN                   182.0   \n",
       "8                    40.7                    1.0                     NaN   \n",
       "9                    36.3                    1.0                   274.0   \n",
       "\n",
       "   mother_race  mother_height  mother_weight_gain  father_age  \\\n",
       "0            1           65.0                35.0        29.0   \n",
       "1            1           64.0                26.0        37.0   \n",
       "2            1           66.0                 NaN        33.0   \n",
       "3            1            NaN                20.0        27.0   \n",
       "4            1           65.0                42.0        29.0   \n",
       "5            1            NaN                51.0        27.0   \n",
       "6            1            NaN                16.0        33.0   \n",
       "7            1           65.0                12.0         NaN   \n",
       "8            1           63.0                 NaN        37.0   \n",
       "9            1           71.0                14.0        33.0   \n",
       "\n",
       "   father_education  cigarettes_before_pregnancy  prenatal_care_month  \\\n",
       "0                 6                          0.0                    2   \n",
       "1                 4                          0.0                    3   \n",
       "2                 6                          0.0                    3   \n",
       "3                 6                          0.0                    3   \n",
       "4                 8                          0.0                    2   \n",
       "5                 3                          0.0                    4   \n",
       "6                 3                          0.0                    4   \n",
       "7                 5                         11.0                    3   \n",
       "8                 4                          0.0                    3   \n",
       "9                 3                          0.0                    2   \n",
       "\n",
       "   number_prenatal_visits previous_cesarean newborn_gender  newborn_weight  \n",
       "0                    10.0                 N              F            3045  \n",
       "1                    10.0                 N              F            3061  \n",
       "2                     NaN                 N              F            3827  \n",
       "3                     9.0                 N              M            3997  \n",
       "4                    12.0                 N              F            3240  \n",
       "5                    10.0                 N              M            3544  \n",
       "6                     8.0                 N              M            3010  \n",
       "7                    15.0                 N              M            3856  \n",
       "8                     9.0                 Y              M            1015  \n",
       "9                    14.0                 N              F            4450  "
      ]
     },
     "execution_count": 4,
     "metadata": {},
     "output_type": "execute_result"
    }
   ],
   "source": [
    "newborn_train.head(10)"
   ]
  },
  {
   "cell_type": "markdown",
   "metadata": {},
   "source": [
    "Some of the values are missing or represented as NaN in the sample. You may need to handle these missing values during data preprocessing. In the next step we will try to handle these missing values during data preprocessing."
   ]
  },
  {
   "cell_type": "markdown",
   "metadata": {},
   "source": [
    "The summary statistics provide an overview of the distribution and range of values in each numerical column."
   ]
  },
  {
   "cell_type": "code",
   "execution_count": 5,
   "metadata": {},
   "outputs": [
    {
     "data": {
      "text/html": [
       "<div>\n",
       "<style scoped>\n",
       "    .dataframe tbody tr th:only-of-type {\n",
       "        vertical-align: middle;\n",
       "    }\n",
       "\n",
       "    .dataframe tbody tr th {\n",
       "        vertical-align: top;\n",
       "    }\n",
       "\n",
       "    .dataframe thead th {\n",
       "        text-align: right;\n",
       "    }\n",
       "</style>\n",
       "<table border=\"1\" class=\"dataframe\">\n",
       "  <thead>\n",
       "    <tr style=\"text-align: right;\">\n",
       "      <th></th>\n",
       "      <th>mother_body_mass_index</th>\n",
       "      <th>mother_marital_status</th>\n",
       "      <th>mother_delivery_weight</th>\n",
       "      <th>mother_race</th>\n",
       "      <th>mother_height</th>\n",
       "      <th>mother_weight_gain</th>\n",
       "      <th>father_age</th>\n",
       "      <th>father_education</th>\n",
       "      <th>cigarettes_before_pregnancy</th>\n",
       "      <th>prenatal_care_month</th>\n",
       "      <th>number_prenatal_visits</th>\n",
       "      <th>newborn_weight</th>\n",
       "    </tr>\n",
       "  </thead>\n",
       "  <tbody>\n",
       "    <tr>\n",
       "      <th>count</th>\n",
       "      <td>2.251516e+06</td>\n",
       "      <td>1.985606e+06</td>\n",
       "      <td>2.363158e+06</td>\n",
       "      <td>2.398116e+06</td>\n",
       "      <td>2.153587e+06</td>\n",
       "      <td>2.324643e+06</td>\n",
       "      <td>1.953610e+06</td>\n",
       "      <td>2.398116e+06</td>\n",
       "      <td>2.386815e+06</td>\n",
       "      <td>2.398116e+06</td>\n",
       "      <td>2.338215e+06</td>\n",
       "      <td>2.398116e+06</td>\n",
       "    </tr>\n",
       "    <tr>\n",
       "      <th>mean</th>\n",
       "      <td>2.716721e+01</td>\n",
       "      <td>1.399560e+00</td>\n",
       "      <td>1.883170e+02</td>\n",
       "      <td>1.522342e+00</td>\n",
       "      <td>6.412125e+01</td>\n",
       "      <td>2.948373e+01</td>\n",
       "      <td>3.180109e+01</td>\n",
       "      <td>4.904241e+00</td>\n",
       "      <td>1.104388e+00</td>\n",
       "      <td>5.295876e+00</td>\n",
       "      <td>1.129318e+01</td>\n",
       "      <td>3.261835e+03</td>\n",
       "    </tr>\n",
       "    <tr>\n",
       "      <th>std</th>\n",
       "      <td>6.755758e+00</td>\n",
       "      <td>4.898080e-01</td>\n",
       "      <td>4.136924e+01</td>\n",
       "      <td>1.111554e+00</td>\n",
       "      <td>2.835525e+00</td>\n",
       "      <td>1.514630e+01</td>\n",
       "      <td>6.812647e+00</td>\n",
       "      <td>2.305806e+00</td>\n",
       "      <td>4.730520e+00</td>\n",
       "      <td>1.505508e+01</td>\n",
       "      <td>4.197046e+00</td>\n",
       "      <td>5.904724e+02</td>\n",
       "    </tr>\n",
       "    <tr>\n",
       "      <th>min</th>\n",
       "      <td>1.300000e+01</td>\n",
       "      <td>1.000000e+00</td>\n",
       "      <td>1.000000e+02</td>\n",
       "      <td>1.000000e+00</td>\n",
       "      <td>3.000000e+01</td>\n",
       "      <td>0.000000e+00</td>\n",
       "      <td>1.100000e+01</td>\n",
       "      <td>1.000000e+00</td>\n",
       "      <td>0.000000e+00</td>\n",
       "      <td>0.000000e+00</td>\n",
       "      <td>0.000000e+00</td>\n",
       "      <td>2.270000e+02</td>\n",
       "    </tr>\n",
       "    <tr>\n",
       "      <th>25%</th>\n",
       "      <td>2.230000e+01</td>\n",
       "      <td>1.000000e+00</td>\n",
       "      <td>1.590000e+02</td>\n",
       "      <td>1.000000e+00</td>\n",
       "      <td>6.200000e+01</td>\n",
       "      <td>2.000000e+01</td>\n",
       "      <td>2.700000e+01</td>\n",
       "      <td>3.000000e+00</td>\n",
       "      <td>0.000000e+00</td>\n",
       "      <td>2.000000e+00</td>\n",
       "      <td>9.000000e+00</td>\n",
       "      <td>2.960000e+03</td>\n",
       "    </tr>\n",
       "    <tr>\n",
       "      <th>50%</th>\n",
       "      <td>2.570000e+01</td>\n",
       "      <td>1.000000e+00</td>\n",
       "      <td>1.810000e+02</td>\n",
       "      <td>1.000000e+00</td>\n",
       "      <td>6.400000e+01</td>\n",
       "      <td>2.900000e+01</td>\n",
       "      <td>3.100000e+01</td>\n",
       "      <td>4.000000e+00</td>\n",
       "      <td>0.000000e+00</td>\n",
       "      <td>3.000000e+00</td>\n",
       "      <td>1.200000e+01</td>\n",
       "      <td>3.300000e+03</td>\n",
       "    </tr>\n",
       "    <tr>\n",
       "      <th>75%</th>\n",
       "      <td>3.070000e+01</td>\n",
       "      <td>2.000000e+00</td>\n",
       "      <td>2.100000e+02</td>\n",
       "      <td>2.000000e+00</td>\n",
       "      <td>6.600000e+01</td>\n",
       "      <td>3.800000e+01</td>\n",
       "      <td>3.600000e+01</td>\n",
       "      <td>6.000000e+00</td>\n",
       "      <td>0.000000e+00</td>\n",
       "      <td>3.000000e+00</td>\n",
       "      <td>1.300000e+01</td>\n",
       "      <td>3.629000e+03</td>\n",
       "    </tr>\n",
       "    <tr>\n",
       "      <th>max</th>\n",
       "      <td>6.980000e+01</td>\n",
       "      <td>2.000000e+00</td>\n",
       "      <td>4.000000e+02</td>\n",
       "      <td>6.000000e+00</td>\n",
       "      <td>7.800000e+01</td>\n",
       "      <td>9.800000e+01</td>\n",
       "      <td>9.800000e+01</td>\n",
       "      <td>9.000000e+00</td>\n",
       "      <td>9.800000e+01</td>\n",
       "      <td>9.900000e+01</td>\n",
       "      <td>9.800000e+01</td>\n",
       "      <td>8.165000e+03</td>\n",
       "    </tr>\n",
       "  </tbody>\n",
       "</table>\n",
       "</div>"
      ],
      "text/plain": [
       "       mother_body_mass_index  mother_marital_status  mother_delivery_weight  \\\n",
       "count            2.251516e+06           1.985606e+06            2.363158e+06   \n",
       "mean             2.716721e+01           1.399560e+00            1.883170e+02   \n",
       "std              6.755758e+00           4.898080e-01            4.136924e+01   \n",
       "min              1.300000e+01           1.000000e+00            1.000000e+02   \n",
       "25%              2.230000e+01           1.000000e+00            1.590000e+02   \n",
       "50%              2.570000e+01           1.000000e+00            1.810000e+02   \n",
       "75%              3.070000e+01           2.000000e+00            2.100000e+02   \n",
       "max              6.980000e+01           2.000000e+00            4.000000e+02   \n",
       "\n",
       "        mother_race  mother_height  mother_weight_gain    father_age  \\\n",
       "count  2.398116e+06   2.153587e+06        2.324643e+06  1.953610e+06   \n",
       "mean   1.522342e+00   6.412125e+01        2.948373e+01  3.180109e+01   \n",
       "std    1.111554e+00   2.835525e+00        1.514630e+01  6.812647e+00   \n",
       "min    1.000000e+00   3.000000e+01        0.000000e+00  1.100000e+01   \n",
       "25%    1.000000e+00   6.200000e+01        2.000000e+01  2.700000e+01   \n",
       "50%    1.000000e+00   6.400000e+01        2.900000e+01  3.100000e+01   \n",
       "75%    2.000000e+00   6.600000e+01        3.800000e+01  3.600000e+01   \n",
       "max    6.000000e+00   7.800000e+01        9.800000e+01  9.800000e+01   \n",
       "\n",
       "       father_education  cigarettes_before_pregnancy  prenatal_care_month  \\\n",
       "count      2.398116e+06                 2.386815e+06         2.398116e+06   \n",
       "mean       4.904241e+00                 1.104388e+00         5.295876e+00   \n",
       "std        2.305806e+00                 4.730520e+00         1.505508e+01   \n",
       "min        1.000000e+00                 0.000000e+00         0.000000e+00   \n",
       "25%        3.000000e+00                 0.000000e+00         2.000000e+00   \n",
       "50%        4.000000e+00                 0.000000e+00         3.000000e+00   \n",
       "75%        6.000000e+00                 0.000000e+00         3.000000e+00   \n",
       "max        9.000000e+00                 9.800000e+01         9.900000e+01   \n",
       "\n",
       "       number_prenatal_visits  newborn_weight  \n",
       "count            2.338215e+06    2.398116e+06  \n",
       "mean             1.129318e+01    3.261835e+03  \n",
       "std              4.197046e+00    5.904724e+02  \n",
       "min              0.000000e+00    2.270000e+02  \n",
       "25%              9.000000e+00    2.960000e+03  \n",
       "50%              1.200000e+01    3.300000e+03  \n",
       "75%              1.300000e+01    3.629000e+03  \n",
       "max              9.800000e+01    8.165000e+03  "
      ]
     },
     "execution_count": 5,
     "metadata": {},
     "output_type": "execute_result"
    }
   ],
   "source": [
    "newborn_train.describe()"
   ]
  },
  {
   "cell_type": "code",
   "execution_count": 6,
   "metadata": {},
   "outputs": [
    {
     "name": "stdout",
     "output_type": "stream",
     "text": [
      "<class 'pandas.core.frame.DataFrame'>\n",
      "RangeIndex: 2398116 entries, 0 to 2398115\n",
      "Data columns (total 14 columns):\n",
      " #   Column                       Dtype  \n",
      "---  ------                       -----  \n",
      " 0   mother_body_mass_index       float64\n",
      " 1   mother_marital_status        float64\n",
      " 2   mother_delivery_weight       float64\n",
      " 3   mother_race                  int64  \n",
      " 4   mother_height                float64\n",
      " 5   mother_weight_gain           float64\n",
      " 6   father_age                   float64\n",
      " 7   father_education             int64  \n",
      " 8   cigarettes_before_pregnancy  float64\n",
      " 9   prenatal_care_month          int64  \n",
      " 10  number_prenatal_visits       float64\n",
      " 11  previous_cesarean            object \n",
      " 12  newborn_gender               object \n",
      " 13  newborn_weight               int64  \n",
      "dtypes: float64(8), int64(4), object(2)\n",
      "memory usage: 256.1+ MB\n"
     ]
    }
   ],
   "source": [
    "newborn_train.info()"
   ]
  },
  {
   "cell_type": "markdown",
   "metadata": {},
   "source": [
    "The column 'mother_marital_status', 'mother_race', 'father_education', 'previous_cesarean', 'newborn_gender' should be converted to a categorical data type."
   ]
  },
  {
   "cell_type": "code",
   "execution_count": 7,
   "metadata": {},
   "outputs": [
    {
     "data": {
      "text/plain": [
       "mother_body_mass_index          float64\n",
       "mother_marital_status          category\n",
       "mother_delivery_weight          float64\n",
       "mother_race                    category\n",
       "mother_height                   float64\n",
       "mother_weight_gain              float64\n",
       "father_age                      float64\n",
       "father_education               category\n",
       "cigarettes_before_pregnancy     float64\n",
       "prenatal_care_month               int64\n",
       "number_prenatal_visits          float64\n",
       "previous_cesarean              category\n",
       "newborn_gender                 category\n",
       "newborn_weight                    int64\n",
       "dtype: object"
      ]
     },
     "execution_count": 7,
     "metadata": {},
     "output_type": "execute_result"
    }
   ],
   "source": [
    "# Converting columns to categorical data type\n",
    "convert_to_category = ['mother_marital_status', 'mother_race', 'father_education', 'previous_cesarean', 'newborn_gender']\n",
    "newborn_train[convert_to_category] = newborn_train[convert_to_category].astype('category')\n",
    "\n",
    "# the same for test\n",
    "convert_to_category_test = ['mother_marital_status', 'mother_race', 'father_education', 'previous_cesarean', 'newborn_gender']\n",
    "newborn_test[convert_to_category_test] = newborn_test[convert_to_category_test].astype('category')\n",
    "\n",
    "# View the updated data types\n",
    "newborn_train.dtypes"
   ]
  },
  {
   "cell_type": "markdown",
   "metadata": {},
   "source": [
    "mother_height, mother_weight_gain, father_age, cigarettes_before_pregnancy, number_prenatal_visits should be integers but we will change types of them after handle with missing values."
   ]
  },
  {
   "cell_type": "code",
   "execution_count": 8,
   "metadata": {},
   "outputs": [
    {
     "data": {
      "text/plain": [
       "(2398116, 14)"
      ]
     },
     "execution_count": 8,
     "metadata": {},
     "output_type": "execute_result"
    }
   ],
   "source": [
    "newborn_train.shape"
   ]
  },
  {
   "cell_type": "markdown",
   "metadata": {},
   "source": [
    "#### Dealing with missing values"
   ]
  },
  {
   "cell_type": "code",
   "execution_count": 9,
   "metadata": {},
   "outputs": [
    {
     "name": "stdout",
     "output_type": "stream",
     "text": [
      "mother_body_mass_index         146600\n",
      "mother_marital_status          412510\n",
      "mother_delivery_weight          34958\n",
      "mother_race                         0\n",
      "mother_height                  244529\n",
      "mother_weight_gain              73473\n",
      "father_age                     444506\n",
      "father_education                    0\n",
      "cigarettes_before_pregnancy     11301\n",
      "prenatal_care_month                 0\n",
      "number_prenatal_visits          59901\n",
      "previous_cesarean                   0\n",
      "newborn_gender                      0\n",
      "newborn_weight                      0\n",
      "dtype: int64\n"
     ]
    }
   ],
   "source": [
    "# Checking the number of missing values in each column\n",
    "missing_values = newborn_train.isnull().sum()\n",
    "print(missing_values)"
   ]
  },
  {
   "cell_type": "markdown",
   "metadata": {},
   "source": [
    "For dealing with the problem of missing values we can:\n",
    "- remove missing variables/columns but we can consider it when the variable has more than ~10% missings and is not crucial for the analysis\n",
    "- fill in the missing values\n"
   ]
  },
  {
   "cell_type": "markdown",
   "metadata": {},
   "source": [
    "So we will calculate the percentage of missing values for each column in the dataset to check if a variable has more than 10% missing values."
   ]
  },
  {
   "cell_type": "code",
   "execution_count": 10,
   "metadata": {},
   "outputs": [
    {
     "name": "stdout",
     "output_type": "stream",
     "text": [
      "mother_marital_status    17.201420\n",
      "mother_height            10.196713\n",
      "father_age               18.535634\n",
      "dtype: float64\n"
     ]
    }
   ],
   "source": [
    "# Calculate the percentage of missing values for each column\n",
    "missing_percentage = newborn_train.isnull().sum() / len(newborn_train) * 100\n",
    "\n",
    "# Check if any variable has more than 10% missing values\n",
    "variables_with_high_missing = missing_percentage[missing_percentage > 10]\n",
    "\n",
    "# Print the variables with more than 10% missing values\n",
    "print(variables_with_high_missing)"
   ]
  },
  {
   "cell_type": "markdown",
   "metadata": {},
   "source": [
    "Father_age and Mother_height might have some influence on newborn weight due to potential genetic factors.Mother_marital_status might not have a direct impact on predicting newborn weight but it could potentially be associated with other factors such as social support or access to healthcare. So we won't remove any variable."
   ]
  },
  {
   "cell_type": "markdown",
   "metadata": {},
   "source": [
    "We can fill in the missing values for continuous variables using:\n",
    "- constant (like 0 - the missing values are equivalent to zero or have no impact on the analysis)\n",
    "- statistics like: mean/median/mode (globally or in the subgroup)\n",
    "- random value from assumed distribution - for this one we need to check the distribution of the variable.\n"
   ]
  },
  {
   "cell_type": "code",
   "execution_count": 11,
   "metadata": {},
   "outputs": [
    {
     "data": {
      "image/png": "[encoded data removed]",
      "text/plain": [
       "<Figure size 432x288 with 1 Axes>"
      ]
     },
     "metadata": {
      "needs_background": "light"
     },
     "output_type": "display_data"
    },
    {
     "name": "stderr",
     "output_type": "stream",
     "text": [
      "/home/ubuntu/.local/lib/python3.8/site-packages/scipy/stats/_morestats.py:1800: UserWarning: p-value may not be accurate for N > 5000.\n",
      "  warnings.warn(\"p-value may not be accurate for N > 5000.\")\n"
     ]
    },
    {
     "name": "stdout",
     "output_type": "stream",
     "text": [
      "Shapiro-Wilk test statistic: nan\n",
      "p-value: 1.0\n"
     ]
    },
    {
     "data": {
      "image/png": "[encoded data removed]",
      "text/plain": [
       "<Figure size 432x288 with 1 Axes>"
      ]
     },
     "metadata": {
      "needs_background": "light"
     },
     "output_type": "display_data"
    },
    {
     "name": "stdout",
     "output_type": "stream",
     "text": [
      "Shapiro-Wilk test statistic: nan\n",
      "p-value: 1.0\n"
     ]
    },
    {
     "data": {
      "image/png": "[encoded data removed]",
      "text/plain": [
       "<Figure size 432x288 with 1 Axes>"
      ]
     },
     "metadata": {
      "needs_background": "light"
     },
     "output_type": "display_data"
    },
    {
     "name": "stdout",
     "output_type": "stream",
     "text": [
      "Shapiro-Wilk test statistic: nan\n",
      "p-value: 1.0\n"
     ]
    },
    {
     "data": {
      "image/png": "[encoded data removed]",
      "text/plain": [
       "<Figure size 432x288 with 1 Axes>"
      ]
     },
     "metadata": {
      "needs_background": "light"
     },
     "output_type": "display_data"
    },
    {
     "name": "stdout",
     "output_type": "stream",
     "text": [
      "Shapiro-Wilk test statistic: nan\n",
      "p-value: 1.0\n"
     ]
    },
    {
     "data": {
      "image/png": "[encoded data removed]",
      "text/plain": [
       "<Figure size 432x288 with 1 Axes>"
      ]
     },
     "metadata": {
      "needs_background": "light"
     },
     "output_type": "display_data"
    },
    {
     "name": "stdout",
     "output_type": "stream",
     "text": [
      "Shapiro-Wilk test statistic: nan\n",
      "p-value: 1.0\n"
     ]
    },
    {
     "data": {
      "image/png": "[encoded data removed]",
      "text/plain": [
       "<Figure size 432x288 with 1 Axes>"
      ]
     },
     "metadata": {
      "needs_background": "light"
     },
     "output_type": "display_data"
    },
    {
     "name": "stdout",
     "output_type": "stream",
     "text": [
      "Shapiro-Wilk test statistic: nan\n",
      "p-value: 1.0\n"
     ]
    },
    {
     "data": {
      "image/png": "[encoded data removed]",
      "text/plain": [
       "<Figure size 432x288 with 1 Axes>"
      ]
     },
     "metadata": {
      "needs_background": "light"
     },
     "output_type": "display_data"
    },
    {
     "name": "stdout",
     "output_type": "stream",
     "text": [
      "Shapiro-Wilk test statistic: nan\n",
      "p-value: 1.0\n"
     ]
    }
   ],
   "source": [
    "# Plot a histogram\n",
    "plt.hist(newborn_train['mother_body_mass_index'], bins='auto')\n",
    "plt.xlabel('Variable')\n",
    "plt.ylabel('Frequency')\n",
    "plt.title('mother_body_mass_index')\n",
    "plt.show()\n",
    "\n",
    "# Perform Shapiro-Wilk test\n",
    "stat, p = stats.shapiro(newborn_train['mother_body_mass_index'])\n",
    "print('Shapiro-Wilk test statistic:', stat)\n",
    "print('p-value:', p)\n",
    "\n",
    "plt.hist(newborn_train['mother_delivery_weight'], bins='auto')\n",
    "plt.xlabel('Variable')\n",
    "plt.ylabel('Frequency')\n",
    "plt.title('mother_delivery_weight')\n",
    "plt.show()\n",
    "\n",
    "stat, p = stats.shapiro(newborn_train['mother_delivery_weight'])\n",
    "print('Shapiro-Wilk test statistic:', stat)\n",
    "print('p-value:', p)\n",
    "\n",
    "plt.hist(newborn_train['mother_height'], bins='auto')\n",
    "plt.xlabel('Variable')\n",
    "plt.ylabel('Frequency')\n",
    "plt.title('mother_height')\n",
    "plt.show()\n",
    "\n",
    "stat, p = stats.shapiro(newborn_train['mother_height'])\n",
    "print('Shapiro-Wilk test statistic:', stat)\n",
    "print('p-value:', p)\n",
    "\n",
    "plt.hist(newborn_train['mother_weight_gain'], bins='auto')\n",
    "plt.xlabel('Variable')\n",
    "plt.ylabel('Frequency')\n",
    "plt.title('mother_weight_gain')\n",
    "plt.show()\n",
    "\n",
    "stat, p = stats.shapiro(newborn_train['mother_weight_gain'])\n",
    "print('Shapiro-Wilk test statistic:', stat)\n",
    "print('p-value:', p)\n",
    "\n",
    "plt.hist(newborn_train['father_age'], bins='auto')\n",
    "plt.xlabel('Variable')\n",
    "plt.ylabel('Frequency')\n",
    "plt.title('father_age')\n",
    "plt.show()\n",
    "\n",
    "stat, p = stats.shapiro(newborn_train['father_age'])\n",
    "print('Shapiro-Wilk test statistic:', stat)\n",
    "print('p-value:', p)\n",
    "\n",
    "plt.hist(newborn_train['cigarettes_before_pregnancy'], bins='auto')\n",
    "plt.xlabel('Variable')\n",
    "plt.ylabel('Frequency')\n",
    "plt.title('cigarettes_before_pregnancy')\n",
    "plt.show()\n",
    "\n",
    "stat, p = stats.shapiro(newborn_train['cigarettes_before_pregnancy'])\n",
    "print('Shapiro-Wilk test statistic:', stat)\n",
    "print('p-value:', p)\n",
    "\n",
    "plt.hist(newborn_train['number_prenatal_visits'], bins='auto')\n",
    "plt.xlabel('Variable')\n",
    "plt.ylabel('Frequency')\n",
    "plt.title('number_prenatal_visits')\n",
    "plt.show()\n",
    "\n",
    "stat, p = stats.shapiro(newborn_train['number_prenatal_visits'])\n",
    "print('Shapiro-Wilk test statistic:', stat)\n",
    "print('p-value:', p)\n"
   ]
  },
  {
   "cell_type": "markdown",
   "metadata": {},
   "source": [
    "None has a normal distribution, nor in any variable can be replaced by zero, so we will use mean."
   ]
  },
  {
   "cell_type": "code",
   "execution_count": 12,
   "metadata": {},
   "outputs": [],
   "source": [
    "newborn_train['mother_body_mass_index'] = newborn_train['mother_body_mass_index'].fillna(newborn_train['mother_body_mass_index'].mean())\n",
    "newborn_train['mother_delivery_weight'] = newborn_train['mother_delivery_weight'].fillna(newborn_train['mother_delivery_weight'].mean())\n",
    "newborn_train['mother_height'] = newborn_train['mother_height'].fillna(newborn_train['mother_height'].mean())\n",
    "newborn_train['mother_weight_gain'] = newborn_train['mother_weight_gain'].fillna(newborn_train['mother_weight_gain'].mean())\n",
    "newborn_train['father_age'] = newborn_train['father_age'].fillna(newborn_train['father_age'].mean())\n",
    "newborn_train['cigarettes_before_pregnancy'] = newborn_train['cigarettes_before_pregnancy'].fillna(newborn_train['cigarettes_before_pregnancy'].mean())\n",
    "newborn_train['number_prenatal_visits'] = newborn_train['number_prenatal_visits'].fillna(newborn_train['number_prenatal_visits'].mean())\n",
    "\n",
    "# the same for test sample\n",
    "newborn_test['mother_body_mass_index'] = newborn_test['mother_body_mass_index'].fillna(newborn_test['mother_body_mass_index'].mean())\n",
    "newborn_test['mother_delivery_weight'] = newborn_test['mother_delivery_weight'].fillna(newborn_test['mother_delivery_weight'].mean())\n",
    "newborn_test['mother_height'] = newborn_test['mother_height'].fillna(newborn_test['mother_height'].mean())\n",
    "newborn_test['mother_weight_gain'] = newborn_test['mother_weight_gain'].fillna(newborn_test['mother_weight_gain'].mean())\n",
    "newborn_test['father_age'] = newborn_test['father_age'].fillna(newborn_test['father_age'].mean())\n",
    "newborn_test['cigarettes_before_pregnancy'] = newborn_test['cigarettes_before_pregnancy'].fillna(newborn_test['cigarettes_before_pregnancy'].mean())\n",
    "newborn_test['number_prenatal_visits'] = newborn_test['number_prenatal_visits'].fillna(newborn_test['number_prenatal_visits'].mean())\n"
   ]
  },
  {
   "cell_type": "markdown",
   "metadata": {},
   "source": [
    "We can fill in the missing values for categorical variables using:\n",
    "- encode missing as additional “missing” category\n",
    "- replace with mode (globally or in the subgroup)\n",
    "- or replace randomly from non-missings\n",
    "\n",
    "We will encode missing values in the 'mother_marital_status' column as an additional \"missing\" category"
   ]
  },
  {
   "cell_type": "code",
   "execution_count": 13,
   "metadata": {},
   "outputs": [],
   "source": [
    "newborn_train['mother_marital_status'] = newborn_train['mother_marital_status'].cat.add_categories(['Unknown'])\n",
    "newborn_train['mother_marital_status'].fillna('Unknown', inplace=True)\n",
    "\n",
    "# the same for test sample\n",
    "newborn_test['mother_marital_status'] = newborn_test['mother_marital_status'].cat.add_categories(['Unknown'])\n",
    "newborn_test['mother_marital_status'].fillna('Unknown', inplace=True)\n"
   ]
  },
  {
   "cell_type": "markdown",
   "metadata": {},
   "source": [
    "Now we will check if there is any remaining missing value in our dataset:"
   ]
  },
  {
   "cell_type": "code",
   "execution_count": 14,
   "metadata": {},
   "outputs": [
    {
     "data": {
      "text/plain": [
       "0"
      ]
     },
     "execution_count": 14,
     "metadata": {},
     "output_type": "execute_result"
    }
   ],
   "source": [
    "newborn_train.isna().values.sum()"
   ]
  },
  {
   "cell_type": "markdown",
   "metadata": {},
   "source": [
    "It means that now our database is complete and now we can convert columns to integer data type"
   ]
  },
  {
   "cell_type": "code",
   "execution_count": 15,
   "metadata": {},
   "outputs": [
    {
     "data": {
      "text/plain": [
       "mother_body_mass_index          float64\n",
       "mother_marital_status          category\n",
       "mother_delivery_weight          float64\n",
       "mother_race                    category\n",
       "mother_height                     int64\n",
       "mother_weight_gain                int64\n",
       "father_age                        int64\n",
       "father_education               category\n",
       "cigarettes_before_pregnancy       int64\n",
       "prenatal_care_month               int64\n",
       "number_prenatal_visits            int64\n",
       "previous_cesarean              category\n",
       "newborn_gender                 category\n",
       "newborn_weight                    int64\n",
       "dtype: object"
      ]
     },
     "execution_count": 15,
     "metadata": {},
     "output_type": "execute_result"
    }
   ],
   "source": [
    "# Converting columns to integer data type\n",
    "convert_to_int = ['mother_height', 'mother_weight_gain', 'father_age', 'cigarettes_before_pregnancy', 'number_prenatal_visits']\n",
    "newborn_train[convert_to_int] = newborn_train[convert_to_int].astype(int)\n",
    "\n",
    "# the same for test sample\n",
    "convert_to_int_test = ['mother_height', 'mother_weight_gain', 'father_age', 'cigarettes_before_pregnancy', 'number_prenatal_visits']\n",
    "newborn_test[convert_to_int_test] = newborn_test[convert_to_int_test].astype(int)\n",
    "\n",
    "# View the updated data types\n",
    "newborn_train.dtypes"
   ]
  },
  {
   "cell_type": "markdown",
   "metadata": {},
   "source": [
    "# 3. Exploratory Data Analysis"
   ]
  },
  {
   "cell_type": "markdown",
   "metadata": {},
   "source": [
    "First we will check the descriptive statistics for the target variable."
   ]
  },
  {
   "cell_type": "code",
   "execution_count": 16,
   "metadata": {},
   "outputs": [
    {
     "name": "stdout",
     "output_type": "stream",
     "text": [
      "count    2.398116e+06\n",
      "mean     3.261835e+03\n",
      "std      5.904724e+02\n",
      "min      2.270000e+02\n",
      "25%      2.960000e+03\n",
      "50%      3.300000e+03\n",
      "75%      3.629000e+03\n",
      "max      8.165000e+03\n",
      "Name: newborn_weight, dtype: float64\n"
     ]
    }
   ],
   "source": [
    "target_stats = newborn_train['newborn_weight'].describe()\n",
    "print(target_stats)"
   ]
  },
  {
   "cell_type": "code",
   "execution_count": 17,
   "metadata": {},
   "outputs": [
    {
     "name": "stdout",
     "output_type": "stream",
     "text": [
      "Skewness: -0.8634864843468809\n",
      "Kurtosis: 2.722141726328787\n",
      "Quantiles:\n",
      "0.25    2960.0\n",
      "0.50    3300.0\n",
      "0.75    3629.0\n",
      "Name: newborn_weight, dtype: float64\n"
     ]
    }
   ],
   "source": [
    "target_skewness = stats.skew(newborn_train['newborn_weight'])\n",
    "target_kurtosis = stats.kurtosis(newborn_train['newborn_weight'])\n",
    "target_quantiles = newborn_train['newborn_weight'].quantile([0.25, 0.5, 0.75])\n",
    "\n",
    "print('Skewness:', target_skewness)\n",
    "print('Kurtosis:', target_kurtosis)\n",
    "print('Quantiles:')\n",
    "print(target_quantiles)\n"
   ]
  },
  {
   "cell_type": "markdown",
   "metadata": {},
   "source": [
    "Based on this results we can conclude that the distribution is slightly skewed to the left. Kurtosis indicates that the distribution has slightly heavier tails than a normal distribution (which has a kurtosis of 3). It suggests that the distribution has more outliers or extreme values than a normal distribution."
   ]
  },
  {
   "cell_type": "markdown",
   "metadata": {},
   "source": [
    "Now we will look at distribution of target variable"
   ]
  },
  {
   "cell_type": "code",
   "execution_count": 18,
   "metadata": {},
   "outputs": [
    {
     "data": {
      "image/png": "[encoded data removed]",
      "text/plain": [
       "<Figure size 576x432 with 1 Axes>"
      ]
     },
     "metadata": {
      "needs_background": "light"
     },
     "output_type": "display_data"
    }
   ],
   "source": [
    "# histogram of newborn_weight\n",
    "plt.figure(figsize=(8, 6))\n",
    "plt.hist(newborn_train['newborn_weight'], bins=20)\n",
    "plt.xlabel('newborns weight')\n",
    "plt.ylabel('Frequency')\n",
    "plt.title('Distribution of newborns weight')\n",
    "plt.show()"
   ]
  },
  {
   "cell_type": "markdown",
   "metadata": {},
   "source": [
    "Distribution appears to be close to normal. Now wi will check violin plot. The width of the violin represents the frequency."
   ]
  },
  {
   "cell_type": "code",
   "execution_count": 19,
   "metadata": {},
   "outputs": [
    {
     "data": {
      "image/png": "[encoded data removed]",
      "text/plain": [
       "<Figure size 576x432 with 1 Axes>"
      ]
     },
     "metadata": {
      "needs_background": "light"
     },
     "output_type": "display_data"
    }
   ],
   "source": [
    "# violin plot of newborn_weight\n",
    "plt.figure(figsize=(8, 6))\n",
    "sns.violinplot(x=newborn_train['newborn_weight'], inner=\"quartile\")\n",
    "plt.xlabel('Variable')\n",
    "plt.ylabel('Value')\n",
    "plt.title('Distribution of Newborn Weight')\n",
    "plt.show()\n",
    "\n"
   ]
  },
  {
   "cell_type": "markdown",
   "metadata": {},
   "source": [
    "We can see from the plot that most newborn's weight is between 2500 and 4500. The dashed lines represent the locations of the three quartiles Q1, Q2 and Q3. Now we will check the box plot to see any potential outliers as individual points beyond the whiskers"
   ]
  },
  {
   "cell_type": "code",
   "execution_count": 20,
   "metadata": {},
   "outputs": [
    {
     "data": {
      "image/png": "[encoded data removed]",
      "text/plain": [
       "<Figure size 576x432 with 1 Axes>"
      ]
     },
     "metadata": {
      "needs_background": "light"
     },
     "output_type": "display_data"
    }
   ],
   "source": [
    "# boxplot plot of newborn_weight\n",
    "plt.figure(figsize=(8, 6))\n",
    "sns.boxplot(newborn_train['newborn_weight'])\n",
    "plt.xlabel('Variable')\n",
    "plt.ylabel('Value')\n",
    "plt.title('Distribution of Newborn Weight')\n",
    "plt.show()\n"
   ]
  },
  {
   "cell_type": "markdown",
   "metadata": {},
   "source": [
    "We can see that there are many outliers so we will check also distributions of other variables."
   ]
  },
  {
   "cell_type": "code",
   "execution_count": 21,
   "metadata": {},
   "outputs": [
    {
     "data": {
      "image/png": "[encoded data removed]",
      "text/plain": [
       "<Figure size 864x432 with 1 Axes>"
      ]
     },
     "metadata": {
      "needs_background": "light"
     },
     "output_type": "display_data"
    },
    {
     "data": {
      "text/plain": [
       "<Figure size 864x432 with 0 Axes>"
      ]
     },
     "metadata": {},
     "output_type": "display_data"
    },
    {
     "data": {
      "image/png": "[encoded data removed]",
      "text/plain": [
       "<Figure size 432x288 with 9 Axes>"
      ]
     },
     "metadata": {
      "needs_background": "light"
     },
     "output_type": "display_data"
    }
   ],
   "source": [
    "# boxplots for numerical variables\n",
    "numerical_vars = ['mother_body_mass_index', 'mother_delivery_weight', 'mother_height', 'mother_weight_gain', 'father_age', 'cigarettes_before_pregnancy', 'number_prenatal_visits']\n",
    "plt.figure(figsize=(12, 6))\n",
    "newborn_train[numerical_vars].boxplot()\n",
    "plt.title('Boxplot of Numerical Variables')\n",
    "plt.xticks(rotation=45)\n",
    "plt.show()\n",
    "\n",
    "# histograms for numerical variables\n",
    "plt.figure(figsize=(12, 6))\n",
    "newborn_train[numerical_vars].hist(bins=20)\n",
    "plt.suptitle('Histograms of Numerical Variables', y=0.95)\n",
    "plt.tight_layout()\n",
    "plt.show()\n"
   ]
  },
  {
   "cell_type": "code",
   "execution_count": 22,
   "metadata": {},
   "outputs": [
    {
     "name": "stderr",
     "output_type": "stream",
     "text": [
      "<ipython-input-22-792fb296e523>:2: FutureWarning: The default value of numeric_only in DataFrame.corr is deprecated. In a future version, it will default to False. Select only valid columns or specify the value of numeric_only to silence this warning.\n",
      "  corr_matrix = newborn_train.corr()\n"
     ]
    },
    {
     "data": {
      "image/png": "[encoded data removed]",
      "text/plain": [
       "<Figure size 720x576 with 2 Axes>"
      ]
     },
     "metadata": {
      "needs_background": "light"
     },
     "output_type": "display_data"
    }
   ],
   "source": [
    "# the correlation matrix\n",
    "corr_matrix = newborn_train.corr()\n",
    "\n",
    "# setting up the figure with a single subplot\n",
    "fig, ax = plt.subplots(figsize=(10, 8))\n",
    "\n",
    "# correlation heatmap\n",
    "sns.heatmap(corr_matrix, annot=True, cmap='coolwarm', fmt=\".2f\", linewidths=0.5, ax=ax)\n",
    "\n",
    "plt.title('Correlation Heatmap')\n",
    "plt.show()"
   ]
  },
  {
   "cell_type": "markdown",
   "metadata": {},
   "source": [
    "In this case, the correlation coefficient of 0.82 suggests a strong positive linear relationship between the mother's BMI and her delivery weight, which make sense because as the mother's BMI increases, there is a tendency for her delivery weight to also increase, and vice versa."
   ]
  },
  {
   "cell_type": "code",
   "execution_count": 23,
   "metadata": {},
   "outputs": [
    {
     "data": {
      "image/png": "[encoded data removed]",
      "text/plain": [
       "<Figure size 576x432 with 2 Axes>"
      ]
     },
     "metadata": {
      "needs_background": "light"
     },
     "output_type": "display_data"
    }
   ],
   "source": [
    "plt.rc(\"grid\", linewidth=0.05)\n",
    "fig, ax = plt.subplots(figsize=(8, 6))\n",
    "\n",
    "h = ax.hist2d(newborn_train[\"mother_body_mass_index\"], \n",
    "              newborn_train[\"mother_delivery_weight\"],\n",
    "              cmap=\"viridis\")\n",
    "ax.set(xlabel=\"Mother Body Mass Index\", ylabel=\"Mother Delivery Weight\")\n",
    "plt.colorbar(h[3], ax=ax)\n",
    "\n",
    "plt.rc(\"grid\", linewidth=0.25)\n",
    "plt.show()\n",
    "\n"
   ]
  },
  {
   "cell_type": "code",
   "execution_count": 24,
   "metadata": {},
   "outputs": [
    {
     "name": "stdout",
     "output_type": "stream",
     "text": [
      "Correlation: 0.8153167666279049\n",
      "p-value: 0.0\n"
     ]
    }
   ],
   "source": [
    "# calculation the correlation \n",
    "corr, p_value = pearsonr(newborn_train['mother_body_mass_index'], newborn_train['mother_delivery_weight'])\n",
    "\n",
    "print(\"Correlation:\", corr)\n",
    "print(\"p-value:\", p_value)"
   ]
  },
  {
   "cell_type": "markdown",
   "metadata": {},
   "source": [
    "We can see the strong correlation between this pair and the highest concentration of data is when body mass index of mother is between 20 and 30 and when delivery weight is between 125 and 200. We can also see that  correlation coefficient between this two variables is 0.815 so this indicates a strong positive linear relationship. The p-value of 0.0 suggests that the observed correlation is statistically significant."
   ]
  },
  {
   "cell_type": "markdown",
   "metadata": {},
   "source": [
    "# 4. Feature Engineering\n",
    "\n",
    "Now, we will use above section to engineer the features of our dataset.\n",
    "\n",
    "Based on the strong positive correlation between \"Mother Body Mass Index\" and \"Mother Delivery Weight\" we will create a new feature that combines information from both variables capture the relationship between the two variables more effectively.\n"
   ]
  },
  {
   "cell_type": "code",
   "execution_count": 25,
   "metadata": {},
   "outputs": [],
   "source": [
    "# creating a new feature by calculating the ratio\n",
    "newborn_train['body_mass_index_to_delivery_weight'] = newborn_train['mother_body_mass_index'] / newborn_train['mother_delivery_weight']\n",
    "newborn_train.drop([\"mother_body_mass_index\", \"mother_delivery_weight\"], axis=1, inplace=True)\n",
    "\n",
    "# the same for test sample\n",
    "newborn_test['body_mass_index_to_delivery_weight'] = newborn_test['mother_body_mass_index'] / newborn_test['mother_delivery_weight']\n",
    "newborn_test.drop([\"mother_body_mass_index\", \"mother_delivery_weight\"], axis=1, inplace=True)\n"
   ]
  },
  {
   "cell_type": "markdown",
   "metadata": {},
   "source": [
    "After creating new variable and removing mother_body_mass_index and mother_delivery_weight we will check some basic statistics."
   ]
  },
  {
   "cell_type": "code",
   "execution_count": 26,
   "metadata": {},
   "outputs": [
    {
     "name": "stdout",
     "output_type": "stream",
     "text": [
      "<class 'pandas.core.series.Series'>\n",
      "RangeIndex: 2398116 entries, 0 to 2398115\n",
      "Series name: body_mass_index_to_delivery_weight\n",
      "Non-Null Count    Dtype  \n",
      "--------------    -----  \n",
      "2398116 non-null  float64\n",
      "dtypes: float64(1)\n",
      "memory usage: 18.3 MB\n"
     ]
    }
   ],
   "source": [
    "newborn_train['body_mass_index_to_delivery_weight'].info()"
   ]
  },
  {
   "cell_type": "code",
   "execution_count": 27,
   "metadata": {},
   "outputs": [
    {
     "data": {
      "image/png": "[encoded data removed]",
      "text/plain": [
       "<Figure size 432x288 with 1 Axes>"
      ]
     },
     "metadata": {
      "needs_background": "light"
     },
     "output_type": "display_data"
    }
   ],
   "source": [
    "plt.hist(newborn_train['body_mass_index_to_delivery_weight'], bins='auto')\n",
    "plt.xlabel('Variable')\n",
    "plt.ylabel('Frequency')\n",
    "plt.title('number_prenatal_visits')\n",
    "plt.show()"
   ]
  },
  {
   "cell_type": "markdown",
   "metadata": {},
   "source": [
    "### Encoding Categorical Variables\n",
    "\n",
    "We can see that this dataset contains categorical variables and we need to encodem them because machine learning models accept only numbers as input."
   ]
  },
  {
   "cell_type": "code",
   "execution_count": 28,
   "metadata": {},
   "outputs": [
    {
     "name": "stdout",
     "output_type": "stream",
     "text": [
      "Unique values in 'mother_marital_status' column:\n",
      "[2.0, 'Unknown', 1.0]\n",
      "Unique values in 'mother_race' column:\n",
      "[1, 2, 4, 6, 3, 5]\n",
      "Unique values in 'father_education' column:\n",
      "[6, 4, 8, 3, 5, 9, 7, 2, 1]\n",
      "Unique values in 'previous_cesarean' column:\n",
      "['N', 'Y', 'U']\n",
      "Unique values in 'newborn_gender' column:\n",
      "['F', 'M']\n"
     ]
    }
   ],
   "source": [
    "print(\"Unique values in 'mother_marital_status' column:\")\n",
    "print(newborn_train['mother_marital_status'].unique().tolist())\n",
    "\n",
    "print(\"Unique values in 'mother_race' column:\")\n",
    "print(newborn_train['mother_race'].unique().tolist())\n",
    "\n",
    "print(\"Unique values in 'father_education' column:\")\n",
    "print(newborn_train['father_education'].unique().tolist())\n",
    "\n",
    "print(\"Unique values in 'previous_cesarean' column:\")\n",
    "print(newborn_train['previous_cesarean'].unique().tolist())\n",
    "\n",
    "print(\"Unique values in 'newborn_gender' column:\")\n",
    "print(newborn_train['newborn_gender'].unique().tolist())"
   ]
  },
  {
   "cell_type": "markdown",
   "metadata": {},
   "source": [
    "We can assume that the unknown category in the marital variable will not be very usefull and meaningfull to predict newborn weight so we decided to remove this category."
   ]
  },
  {
   "cell_type": "code",
   "execution_count": 29,
   "metadata": {},
   "outputs": [
    {
     "name": "stdout",
     "output_type": "stream",
     "text": [
      "Unique values in 'mother_marital_status' column after removing 'Unknown' and mapping values:\n",
      "[1 0]\n"
     ]
    }
   ],
   "source": [
    "# Removing 'Unknown' category\n",
    "newborn_train = newborn_train[newborn_train['mother_marital_status'] != 'Unknown']\n",
    "\n",
    "# Mapping values 1 to 0 and 2 to 1\n",
    "newborn_train['mother_marital_status'] = newborn_train['mother_marital_status'].map({1: 0, 2: 1})\n",
    "\n",
    "# Converting data type to integer\n",
    "newborn_train['mother_marital_status'] = newborn_train['mother_marital_status'].astype(int)\n",
    "\n",
    "# the same for test sample\n",
    "newborn_test = newborn_test[newborn_test['mother_marital_status'] != 'Unknown']\n",
    "newborn_test['mother_marital_status'] = newborn_test['mother_marital_status'].map({1: 0, 2: 1})\n",
    "newborn_test['mother_marital_status'] = newborn_test['mother_marital_status'].astype(int)\n",
    "\n",
    "# Checking the column after changes\n",
    "unique_values = newborn_train['mother_marital_status'].unique()\n",
    "print(\"Unique values in 'mother_marital_status' column after removing 'Unknown' and mapping values:\")\n",
    "print(unique_values)\n",
    "\n"
   ]
  },
  {
   "cell_type": "markdown",
   "metadata": {},
   "source": [
    "'mother_race' has multiple unique values representing different races so we will do one-hot encoding where each unique value is transformed into a binary column indicating the presence or absence of that race."
   ]
  },
  {
   "cell_type": "code",
   "execution_count": 30,
   "metadata": {},
   "outputs": [
    {
     "data": {
      "text/html": [
       "<div>\n",
       "<style scoped>\n",
       "    .dataframe tbody tr th:only-of-type {\n",
       "        vertical-align: middle;\n",
       "    }\n",
       "\n",
       "    .dataframe tbody tr th {\n",
       "        vertical-align: top;\n",
       "    }\n",
       "\n",
       "    .dataframe thead th {\n",
       "        text-align: right;\n",
       "    }\n",
       "</style>\n",
       "<table border=\"1\" class=\"dataframe\">\n",
       "  <thead>\n",
       "    <tr style=\"text-align: right;\">\n",
       "      <th></th>\n",
       "      <th>mother_race_white</th>\n",
       "      <th>mother_race_black</th>\n",
       "      <th>mother_race_aian</th>\n",
       "      <th>mother_race_asian</th>\n",
       "      <th>mother_race_nhopi</th>\n",
       "      <th>mother_race_more_than_one</th>\n",
       "    </tr>\n",
       "  </thead>\n",
       "  <tbody>\n",
       "    <tr>\n",
       "      <th>0</th>\n",
       "      <td>1</td>\n",
       "      <td>0</td>\n",
       "      <td>0</td>\n",
       "      <td>0</td>\n",
       "      <td>0</td>\n",
       "      <td>0</td>\n",
       "    </tr>\n",
       "    <tr>\n",
       "      <th>2</th>\n",
       "      <td>1</td>\n",
       "      <td>0</td>\n",
       "      <td>0</td>\n",
       "      <td>0</td>\n",
       "      <td>0</td>\n",
       "      <td>0</td>\n",
       "    </tr>\n",
       "    <tr>\n",
       "      <th>3</th>\n",
       "      <td>1</td>\n",
       "      <td>0</td>\n",
       "      <td>0</td>\n",
       "      <td>0</td>\n",
       "      <td>0</td>\n",
       "      <td>0</td>\n",
       "    </tr>\n",
       "    <tr>\n",
       "      <th>4</th>\n",
       "      <td>1</td>\n",
       "      <td>0</td>\n",
       "      <td>0</td>\n",
       "      <td>0</td>\n",
       "      <td>0</td>\n",
       "      <td>0</td>\n",
       "    </tr>\n",
       "    <tr>\n",
       "      <th>5</th>\n",
       "      <td>1</td>\n",
       "      <td>0</td>\n",
       "      <td>0</td>\n",
       "      <td>0</td>\n",
       "      <td>0</td>\n",
       "      <td>0</td>\n",
       "    </tr>\n",
       "  </tbody>\n",
       "</table>\n",
       "</div>"
      ],
      "text/plain": [
       "   mother_race_white  mother_race_black  mother_race_aian  mother_race_asian  \\\n",
       "0                  1                  0                 0                  0   \n",
       "2                  1                  0                 0                  0   \n",
       "3                  1                  0                 0                  0   \n",
       "4                  1                  0                 0                  0   \n",
       "5                  1                  0                 0                  0   \n",
       "\n",
       "   mother_race_nhopi  mother_race_more_than_one  \n",
       "0                  0                          0  \n",
       "2                  0                          0  \n",
       "3                  0                          0  \n",
       "4                  0                          0  \n",
       "5                  0                          0  "
      ]
     },
     "execution_count": 30,
     "metadata": {},
     "output_type": "execute_result"
    }
   ],
   "source": [
    "# one-hot encoding \n",
    "race_encoded = pd.get_dummies(newborn_train['mother_race'], prefix='mother_race')\n",
    "race_encoded.columns = ['mother_race_white', 'mother_race_black', 'mother_race_aian', 'mother_race_asian', 'mother_race_nhopi', 'mother_race_more_than_one']\n",
    "\n",
    "# concatenate the encoded columns with the rest \n",
    "newborn_train = pd.concat([newborn_train, race_encoded], axis=1)\n",
    "\n",
    "# removing original column\n",
    "newborn_train.drop('mother_race', axis=1, inplace=True)\n",
    "\n",
    "# the same for test sample\n",
    "race_encoded_test = pd.get_dummies(newborn_test['mother_race'], prefix='mother_race')\n",
    "race_encoded_test.columns = ['mother_race_white', 'mother_race_black', 'mother_race_aian', 'mother_race_asian', 'mother_race_nhopi', 'mother_race_more_than_one']\n",
    "newborn_test = pd.concat([newborn_test, race_encoded_test], axis=1)\n",
    "newborn_test.drop('mother_race', axis=1, inplace=True)\n",
    "\n",
    "# View of new columns\n",
    "race_encoded.head()\n",
    "\n",
    "\n"
   ]
  },
  {
   "cell_type": "markdown",
   "metadata": {},
   "source": [
    "The best way to represents the education level of the father in 'father_education' column is to assign 1 to lowest education level and increment the values as the education level increases (already done) and to remove 9-unknown because they do not seem to be meaningful to predict our target variable."
   ]
  },
  {
   "cell_type": "code",
   "execution_count": 31,
   "metadata": {},
   "outputs": [
    {
     "data": {
      "text/plain": [
       "<IntegerArray>\n",
       "[6, 8, 3, 4, 7, 5, 2, 1]\n",
       "Length: 8, dtype: Int32"
      ]
     },
     "execution_count": 31,
     "metadata": {},
     "output_type": "execute_result"
    }
   ],
   "source": [
    "# removing rows with value = 9\n",
    "newborn_train = newborn_train[newborn_train['father_education'] != 9]\n",
    "\n",
    "# converting 'father_education' as integer \n",
    "newborn_train['father_education'] = newborn_train['father_education'].astype('Int32')\n",
    "\n",
    "# the same for test sample\n",
    "newborn_test = newborn_test[newborn_test['father_education'] != 9]\n",
    "newborn_test['father_education'] = newborn_test['father_education'].astype('Int32')\n",
    "\n",
    "# checking the column after changes\n",
    "newborn_train['father_education'].unique()"
   ]
  },
  {
   "cell_type": "markdown",
   "metadata": {},
   "source": [
    "\n",
    "'previous_cesarean' and 'newborn_gender' will be encoded as 1 and 0. U - other will be removed."
   ]
  },
  {
   "cell_type": "code",
   "execution_count": 32,
   "metadata": {},
   "outputs": [
    {
     "data": {
      "text/plain": [
       "0    1\n",
       "2    1\n",
       "3    0\n",
       "4    1\n",
       "5    0\n",
       "Name: newborn_gender, dtype: int64"
      ]
     },
     "execution_count": 32,
     "metadata": {},
     "output_type": "execute_result"
    }
   ],
   "source": [
    "# removing 'Unknown' category \n",
    "newborn_train = newborn_train[newborn_train['previous_cesarean'] != 'U']\n",
    "\n",
    "# encode previous_cesarean\n",
    "newborn_train['previous_cesarean'] = newborn_train['previous_cesarean'].map({'Y': 1, 'N': 0})\n",
    "\n",
    "# encode newborn_gender\n",
    "newborn_train['newborn_gender'] = newborn_train['newborn_gender'].map({'F': 1, 'M': 0})\n",
    "\n",
    "# converting data type as integers\n",
    "newborn_train['previous_cesarean'] = newborn_train['previous_cesarean'].astype(int)\n",
    "newborn_train['newborn_gender'] = newborn_train['newborn_gender'].astype(int)\n",
    "\n",
    "# the same for test sample\n",
    "newborn_test = newborn_test[newborn_test['previous_cesarean'] != 'U']\n",
    "newborn_test['previous_cesarean'] = newborn_test['previous_cesarean'].map({'Y': 1, 'N': 0})\n",
    "newborn_test['newborn_gender'] = newborn_test['newborn_gender'].map({'F': 1, 'M': 0})\n",
    "newborn_test['previous_cesarean'] = newborn_test['previous_cesarean'].astype(int)\n",
    "newborn_test['newborn_gender'] = newborn_test['newborn_gender'].astype(int)\n",
    "\n",
    "# checking the column after changes\n",
    "newborn_train['previous_cesarean'].head()\n",
    "newborn_train['newborn_gender'].head()"
   ]
  },
  {
   "cell_type": "code",
   "execution_count": 33,
   "metadata": {},
   "outputs": [
    {
     "name": "stdout",
     "output_type": "stream",
     "text": [
      "<class 'pandas.core.frame.DataFrame'>\n",
      "Int64Index: 1708062 entries, 0 to 2398115\n",
      "Data columns (total 18 columns):\n",
      " #   Column                              Dtype  \n",
      "---  ------                              -----  \n",
      " 0   mother_marital_status               int64  \n",
      " 1   mother_height                       int64  \n",
      " 2   mother_weight_gain                  int64  \n",
      " 3   father_age                          int64  \n",
      " 4   father_education                    Int32  \n",
      " 5   cigarettes_before_pregnancy         int64  \n",
      " 6   prenatal_care_month                 int64  \n",
      " 7   number_prenatal_visits              int64  \n",
      " 8   previous_cesarean                   int64  \n",
      " 9   newborn_gender                      int64  \n",
      " 10  newborn_weight                      int64  \n",
      " 11  body_mass_index_to_delivery_weight  float64\n",
      " 12  mother_race_white                   uint8  \n",
      " 13  mother_race_black                   uint8  \n",
      " 14  mother_race_aian                    uint8  \n",
      " 15  mother_race_asian                   uint8  \n",
      " 16  mother_race_nhopi                   uint8  \n",
      " 17  mother_race_more_than_one           uint8  \n",
      "dtypes: Int32(1), float64(1), int64(10), uint8(6)\n",
      "memory usage: 174.3 MB\n"
     ]
    }
   ],
   "source": [
    "newborn_train.info()"
   ]
  },
  {
   "cell_type": "code",
   "execution_count": 34,
   "metadata": {},
   "outputs": [
    {
     "data": {
      "text/html": [
       "<div>\n",
       "<style scoped>\n",
       "    .dataframe tbody tr th:only-of-type {\n",
       "        vertical-align: middle;\n",
       "    }\n",
       "\n",
       "    .dataframe tbody tr th {\n",
       "        vertical-align: top;\n",
       "    }\n",
       "\n",
       "    .dataframe thead th {\n",
       "        text-align: right;\n",
       "    }\n",
       "</style>\n",
       "<table border=\"1\" class=\"dataframe\">\n",
       "  <thead>\n",
       "    <tr style=\"text-align: right;\">\n",
       "      <th></th>\n",
       "      <th>mother_marital_status</th>\n",
       "      <th>mother_height</th>\n",
       "      <th>mother_weight_gain</th>\n",
       "      <th>father_age</th>\n",
       "      <th>father_education</th>\n",
       "      <th>cigarettes_before_pregnancy</th>\n",
       "      <th>prenatal_care_month</th>\n",
       "      <th>number_prenatal_visits</th>\n",
       "      <th>previous_cesarean</th>\n",
       "      <th>newborn_gender</th>\n",
       "      <th>newborn_weight</th>\n",
       "      <th>body_mass_index_to_delivery_weight</th>\n",
       "      <th>mother_race_white</th>\n",
       "      <th>mother_race_black</th>\n",
       "      <th>mother_race_aian</th>\n",
       "      <th>mother_race_asian</th>\n",
       "      <th>mother_race_nhopi</th>\n",
       "      <th>mother_race_more_than_one</th>\n",
       "    </tr>\n",
       "  </thead>\n",
       "  <tbody>\n",
       "    <tr>\n",
       "      <th>count</th>\n",
       "      <td>1708062.00</td>\n",
       "      <td>1708062.00</td>\n",
       "      <td>1708062.00</td>\n",
       "      <td>1708062.00</td>\n",
       "      <td>1708062.00</td>\n",
       "      <td>1708062.00</td>\n",
       "      <td>1708062.00</td>\n",
       "      <td>1708062.00</td>\n",
       "      <td>1708062.00</td>\n",
       "      <td>1708062.00</td>\n",
       "      <td>1708062.00</td>\n",
       "      <td>1708062.00</td>\n",
       "      <td>1708062.00</td>\n",
       "      <td>1708062.00</td>\n",
       "      <td>1708062.00</td>\n",
       "      <td>1708062.00</td>\n",
       "      <td>1708062.00</td>\n",
       "      <td>1708062.00</td>\n",
       "    </tr>\n",
       "    <tr>\n",
       "      <th>mean</th>\n",
       "      <td>0.32</td>\n",
       "      <td>64.19</td>\n",
       "      <td>29.78</td>\n",
       "      <td>31.63</td>\n",
       "      <td>4.26</td>\n",
       "      <td>1.00</td>\n",
       "      <td>5.24</td>\n",
       "      <td>11.43</td>\n",
       "      <td>0.16</td>\n",
       "      <td>0.49</td>\n",
       "      <td>3282.49</td>\n",
       "      <td>0.14</td>\n",
       "      <td>0.77</td>\n",
       "      <td>0.14</td>\n",
       "      <td>0.01</td>\n",
       "      <td>0.06</td>\n",
       "      <td>0.00</td>\n",
       "      <td>0.02</td>\n",
       "    </tr>\n",
       "    <tr>\n",
       "      <th>std</th>\n",
       "      <td>0.47</td>\n",
       "      <td>2.68</td>\n",
       "      <td>14.76</td>\n",
       "      <td>6.48</td>\n",
       "      <td>1.74</td>\n",
       "      <td>4.45</td>\n",
       "      <td>14.93</td>\n",
       "      <td>3.97</td>\n",
       "      <td>0.36</td>\n",
       "      <td>0.50</td>\n",
       "      <td>582.77</td>\n",
       "      <td>0.02</td>\n",
       "      <td>0.42</td>\n",
       "      <td>0.35</td>\n",
       "      <td>0.09</td>\n",
       "      <td>0.24</td>\n",
       "      <td>0.05</td>\n",
       "      <td>0.15</td>\n",
       "    </tr>\n",
       "    <tr>\n",
       "      <th>min</th>\n",
       "      <td>0.00</td>\n",
       "      <td>30.00</td>\n",
       "      <td>0.00</td>\n",
       "      <td>13.00</td>\n",
       "      <td>1.00</td>\n",
       "      <td>0.00</td>\n",
       "      <td>0.00</td>\n",
       "      <td>0.00</td>\n",
       "      <td>0.00</td>\n",
       "      <td>0.00</td>\n",
       "      <td>227.00</td>\n",
       "      <td>0.05</td>\n",
       "      <td>0.00</td>\n",
       "      <td>0.00</td>\n",
       "      <td>0.00</td>\n",
       "      <td>0.00</td>\n",
       "      <td>0.00</td>\n",
       "      <td>0.00</td>\n",
       "    </tr>\n",
       "    <tr>\n",
       "      <th>25%</th>\n",
       "      <td>0.00</td>\n",
       "      <td>62.00</td>\n",
       "      <td>20.00</td>\n",
       "      <td>27.00</td>\n",
       "      <td>3.00</td>\n",
       "      <td>0.00</td>\n",
       "      <td>2.00</td>\n",
       "      <td>10.00</td>\n",
       "      <td>0.00</td>\n",
       "      <td>0.00</td>\n",
       "      <td>2980.00</td>\n",
       "      <td>0.13</td>\n",
       "      <td>1.00</td>\n",
       "      <td>0.00</td>\n",
       "      <td>0.00</td>\n",
       "      <td>0.00</td>\n",
       "      <td>0.00</td>\n",
       "      <td>0.00</td>\n",
       "    </tr>\n",
       "    <tr>\n",
       "      <th>50%</th>\n",
       "      <td>0.00</td>\n",
       "      <td>64.00</td>\n",
       "      <td>29.00</td>\n",
       "      <td>31.00</td>\n",
       "      <td>4.00</td>\n",
       "      <td>0.00</td>\n",
       "      <td>3.00</td>\n",
       "      <td>12.00</td>\n",
       "      <td>0.00</td>\n",
       "      <td>0.00</td>\n",
       "      <td>3317.00</td>\n",
       "      <td>0.14</td>\n",
       "      <td>1.00</td>\n",
       "      <td>0.00</td>\n",
       "      <td>0.00</td>\n",
       "      <td>0.00</td>\n",
       "      <td>0.00</td>\n",
       "      <td>0.00</td>\n",
       "    </tr>\n",
       "    <tr>\n",
       "      <th>75%</th>\n",
       "      <td>1.00</td>\n",
       "      <td>66.00</td>\n",
       "      <td>38.00</td>\n",
       "      <td>35.00</td>\n",
       "      <td>6.00</td>\n",
       "      <td>0.00</td>\n",
       "      <td>3.00</td>\n",
       "      <td>13.00</td>\n",
       "      <td>0.00</td>\n",
       "      <td>1.00</td>\n",
       "      <td>3646.00</td>\n",
       "      <td>0.16</td>\n",
       "      <td>1.00</td>\n",
       "      <td>0.00</td>\n",
       "      <td>0.00</td>\n",
       "      <td>0.00</td>\n",
       "      <td>0.00</td>\n",
       "      <td>0.00</td>\n",
       "    </tr>\n",
       "    <tr>\n",
       "      <th>max</th>\n",
       "      <td>1.00</td>\n",
       "      <td>78.00</td>\n",
       "      <td>98.00</td>\n",
       "      <td>98.00</td>\n",
       "      <td>8.00</td>\n",
       "      <td>98.00</td>\n",
       "      <td>99.00</td>\n",
       "      <td>97.00</td>\n",
       "      <td>1.00</td>\n",
       "      <td>1.00</td>\n",
       "      <td>8165.00</td>\n",
       "      <td>0.46</td>\n",
       "      <td>1.00</td>\n",
       "      <td>1.00</td>\n",
       "      <td>1.00</td>\n",
       "      <td>1.00</td>\n",
       "      <td>1.00</td>\n",
       "      <td>1.00</td>\n",
       "    </tr>\n",
       "  </tbody>\n",
       "</table>\n",
       "</div>"
      ],
      "text/plain": [
       "      mother_marital_status mother_height mother_weight_gain  father_age  \\\n",
       "count            1708062.00    1708062.00         1708062.00  1708062.00   \n",
       "mean                   0.32         64.19              29.78       31.63   \n",
       "std                    0.47          2.68              14.76        6.48   \n",
       "min                    0.00         30.00               0.00       13.00   \n",
       "25%                    0.00         62.00              20.00       27.00   \n",
       "50%                    0.00         64.00              29.00       31.00   \n",
       "75%                    1.00         66.00              38.00       35.00   \n",
       "max                    1.00         78.00              98.00       98.00   \n",
       "\n",
       "      father_education cigarettes_before_pregnancy prenatal_care_month  \\\n",
       "count       1708062.00                  1708062.00          1708062.00   \n",
       "mean              4.26                        1.00                5.24   \n",
       "std               1.74                        4.45               14.93   \n",
       "min               1.00                        0.00                0.00   \n",
       "25%               3.00                        0.00                2.00   \n",
       "50%               4.00                        0.00                3.00   \n",
       "75%               6.00                        0.00                3.00   \n",
       "max               8.00                       98.00               99.00   \n",
       "\n",
       "      number_prenatal_visits previous_cesarean newborn_gender newborn_weight  \\\n",
       "count             1708062.00        1708062.00     1708062.00     1708062.00   \n",
       "mean                   11.43              0.16           0.49        3282.49   \n",
       "std                     3.97              0.36           0.50         582.77   \n",
       "min                     0.00              0.00           0.00         227.00   \n",
       "25%                    10.00              0.00           0.00        2980.00   \n",
       "50%                    12.00              0.00           0.00        3317.00   \n",
       "75%                    13.00              0.00           1.00        3646.00   \n",
       "max                    97.00              1.00           1.00        8165.00   \n",
       "\n",
       "      body_mass_index_to_delivery_weight mother_race_white mother_race_black  \\\n",
       "count                         1708062.00        1708062.00        1708062.00   \n",
       "mean                                0.14              0.77              0.14   \n",
       "std                                 0.02              0.42              0.35   \n",
       "min                                 0.05              0.00              0.00   \n",
       "25%                                 0.13              1.00              0.00   \n",
       "50%                                 0.14              1.00              0.00   \n",
       "75%                                 0.16              1.00              0.00   \n",
       "max                                 0.46              1.00              1.00   \n",
       "\n",
       "      mother_race_aian mother_race_asian mother_race_nhopi  \\\n",
       "count       1708062.00        1708062.00        1708062.00   \n",
       "mean              0.01              0.06              0.00   \n",
       "std               0.09              0.24              0.05   \n",
       "min               0.00              0.00              0.00   \n",
       "25%               0.00              0.00              0.00   \n",
       "50%               0.00              0.00              0.00   \n",
       "75%               0.00              0.00              0.00   \n",
       "max               1.00              1.00              1.00   \n",
       "\n",
       "      mother_race_more_than_one  \n",
       "count                1708062.00  \n",
       "mean                       0.02  \n",
       "std                        0.15  \n",
       "min                        0.00  \n",
       "25%                        0.00  \n",
       "50%                        0.00  \n",
       "75%                        0.00  \n",
       "max                        1.00  "
      ]
     },
     "execution_count": 34,
     "metadata": {},
     "output_type": "execute_result"
    }
   ],
   "source": [
    "# numerical values without scientific notation\n",
    "pd.set_option('display.float_format', lambda x: '{:.2f}'.format(x))\n",
    "\n",
    "# describe dataset\n",
    "description = newborn_train.describe().apply(lambda x: x.apply('{:.2f}'.format))\n",
    "\n",
    "# reset the display options to default\n",
    "pd.reset_option('display.float_format')\n",
    "description\n",
    "\n"
   ]
  },
  {
   "cell_type": "markdown",
   "metadata": {},
   "source": [
    "## Feature Scaling\n",
    "\n",
    "Our next move will be to scale the features in our dataset using standardization."
   ]
  },
  {
   "cell_type": "code",
   "execution_count": 35,
   "metadata": {},
   "outputs": [
    {
     "name": "stderr",
     "output_type": "stream",
     "text": [
      "<ipython-input-35-3797d0c29f56>:4: DeprecationWarning: In a future version, `df.iloc[:, i] = newvals` will attempt to set the values inplace instead of always setting a new array. To retain the old behavior, use either `df[df.columns[i]] = newvals` or, if columns are non-unique, `df.isetitem(i, newvals)`\n",
      "  newborn_train.loc[:, newborn_train.columns != 'newborn_weight'] = scaler.fit_transform(\n",
      "<ipython-input-35-3797d0c29f56>:8: DeprecationWarning: In a future version, `df.iloc[:, i] = newvals` will attempt to set the values inplace instead of always setting a new array. To retain the old behavior, use either `df[df.columns[i]] = newvals` or, if columns are non-unique, `df.isetitem(i, newvals)`\n",
      "  newborn_test.loc[:, newborn_test.columns != 'newborn_weight'] = scaler.fit_transform(\n"
     ]
    }
   ],
   "source": [
    "scaler = StandardScaler()\n",
    "\n",
    "# fitting the scaler to our data \n",
    "newborn_train.loc[:, newborn_train.columns != 'newborn_weight'] = scaler.fit_transform(\n",
    "    newborn_train.loc[:, newborn_train.columns != 'newborn_weight'])\n",
    "\n",
    "# the same for test\n",
    "newborn_test.loc[:, newborn_test.columns != 'newborn_weight'] = scaler.fit_transform(\n",
    "    newborn_test.loc[:, newborn_test.columns != 'newborn_weight'])\n"
   ]
  },
  {
   "cell_type": "code",
   "execution_count": 36,
   "metadata": {},
   "outputs": [],
   "source": [
    "pd.DataFrame(newborn_train).to_csv('../data/newborn_train_prep.csv')\n",
    "pd.DataFrame(newborn_test).to_csv('../data/newborn_test_prep.csv')"
   ]
  }
 ],
 "metadata": {
  "kernelspec": {
   "display_name": "Python 3",
   "language": "python",
   "name": "python3"
  },
  "language_info": {
   "codemirror_mode": {
    "name": "ipython",
    "version": 3
   },
   "file_extension": ".py",
   "mimetype": "text/x-python",
   "name": "python",
   "nbconvert_exporter": "python",
   "pygments_lexer": "ipython3",
   "version": "3.8.10"
  }
 },
 "nbformat": 4,
 "nbformat_minor": 2
}
